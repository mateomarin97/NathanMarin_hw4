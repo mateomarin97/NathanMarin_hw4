{
 "metadata": {
  "name": "",
  "signature": "sha256:0bcabd3cbac6b40e855caae77fa4f4b27edf3cdd58fd4c511fa901708f58045e"
 },
 "nbformat": 3,
 "nbformat_minor": 0,
 "worksheets": []
}